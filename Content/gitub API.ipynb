{
  "nbformat": 4,
  "nbformat_minor": 0,
  "metadata": {
    "colab": {
      "provenance": []
    },
    "kernelspec": {
      "name": "python3",
      "display_name": "Python 3"
    },
    "language_info": {
      "name": "python"
    }
  },
  "cells": [
    {
      "cell_type": "markdown",
      "source": [
        "# 📊 GitHub API Analysis – Data Source API Analyst Homework\n",
        "\n",
        "This notebook demonstrates the ability to extract structured data from the GitHub REST API v3 using Python and Google Colab. The following goals are achieved:\n",
        "\n",
        "- ✅ Extract a list of public repositories\n",
        "- ✅ Fetch commit history for a selected repository\n",
        "- ✅ Explore file contents of a repository\n",
        "- 🔐 All requests are authenticated using a GitHub token\n",
        "\n",
        "Prepared by **Rodrigo Lugo**\n"
      ],
      "metadata": {
        "id": "95lgLpJ4IWpK"
      }
    },
    {
      "cell_type": "markdown",
      "source": [
        "## 🔐 Authentication Setup\n",
        "\n",
        "Using a GitHub classic token with read-only access to public repositories. The headers include:\n",
        "- Authorization token\n",
        "- API version\n",
        "- JSON format accept header\n"
      ],
      "metadata": {
        "id": "_X6kh6Y5Io_a"
      }
    },
    {
      "cell_type": "markdown",
      "source": [
        "## 📁 1. List Public Repositories\n",
        "\n",
        "We use the `/users/{username}/repos` endpoint to list the public repositories under the user `rlugog`.\n"
      ],
      "metadata": {
        "id": "2u7ksxWSI4kl"
      }
    },
    {
      "cell_type": "code",
      "execution_count": 4,
      "metadata": {
        "colab": {
          "base_uri": "https://localhost:8080/"
        },
        "id": "4YCPxFwG_568",
        "outputId": "4a57122b-fe7d-4f0b-ac55-ea0e9f690ebc"
      },
      "outputs": [
        {
          "output_type": "stream",
          "name": "stdout",
          "text": [
            "Status Code: 200\n",
            "\n",
            "Repos públicos de rlugog:\n",
            "- ab-test-analysis ( 0 stars)\n",
            "- Air-Quality ( 0 stars)\n",
            "- book-recomendations ( 0 stars)\n",
            "- Customer-Retention-Cohort-Analysis ( 0 stars)\n",
            "- data-analysis-project ( 0 stars)\n"
          ]
        }
      ],
      "source": [
        "import requests\n",
        "\n",
        "\n",
        "GITHUB_TOKEN = \"your_token_here\"\n",
        "\n",
        "\n",
        "\n",
        "headers = {\n",
        "    \"Authorization\": f\"token {GITHUB_TOKEN}\",\n",
        "    \"Accept\": \"application/vnd.github+json\",\n",
        "    \"X-GitHub-Api-Version\": \"2022-11-28\"\n",
        "}\n",
        "\n",
        "\n",
        "username = \"rlugog\"\n",
        "url = f\"https://api.github.com/users/{username}/repos\"\n",
        "\n",
        "\n",
        "response = requests.get(url, headers=headers)\n",
        "\n",
        "\n",
        "print(\"Status Code:\", response.status_code)\n",
        "\n",
        "if response.status_code == 200:\n",
        "    data = response.json()\n",
        "    print(f\"\\nRepos públicos de {username}:\")\n",
        "    for repo in data[:5]:  # primeros 5\n",
        "        print(f\"- {repo['name']} ( {repo['stargazers_count']} stars)\")\n",
        "else:\n",
        "    print(\"Error en la petición:\")\n",
        "    print(response.text)\n"
      ]
    },
    {
      "cell_type": "markdown",
      "source": [
        "## 🔄 2. Fetch Commits from a Repository\n",
        "\n",
        "We now fetch the 5 most recent commits from the repository `ab-test-analysis` using the `/repos/{owner}/{repo}/commits` endpoint.\n"
      ],
      "metadata": {
        "id": "-tCfxTuRJCDL"
      }
    },
    {
      "cell_type": "code",
      "source": [
        "\n",
        "repo_name = \"ab-test-analysis\"\n",
        "\n",
        "\n",
        "commits_url = f\"https://api.github.com/repos/{username}/{repo_name}/commits\"\n",
        "response = requests.get(commits_url, headers=headers)\n",
        "\n",
        "print(\"Status Code:\", response.status_code)\n",
        "\n",
        "if response.status_code == 200:\n",
        "    commits = response.json()\n",
        "    print(f\"\\nCommits recientes de '{repo_name}':\")\n",
        "    for commit in commits[:5]:\n",
        "        sha = commit['sha'][:7]\n",
        "        author = commit['commit']['author']['name']\n",
        "        date = commit['commit']['author']['date']\n",
        "        message = commit['commit']['message']\n",
        "        print(f\"- {sha} | {author} | {date} | {message}\")\n",
        "else:\n",
        "    print(\"Error:\", response.text)\n"
      ],
      "metadata": {
        "colab": {
          "base_uri": "https://localhost:8080/"
        },
        "id": "FptY1HIcEJ62",
        "outputId": "df15f8ff-f6e2-497e-edc6-25457ae89630"
      },
      "execution_count": 5,
      "outputs": [
        {
          "output_type": "stream",
          "name": "stdout",
          "text": [
            "Status Code: 200\n",
            "\n",
            "Commits recientes de 'ab-test-analysis':\n",
            "- 27bb104 | Rodrigo | 2025-04-04T10:19:08Z | Create README.md\n",
            "- 8cbb164 | Rodrigo | 2025-04-04T10:18:53Z | Add files via upload\n"
          ]
        }
      ]
    },
    {
      "cell_type": "markdown",
      "source": [
        "## 📄 3. Explore Contents of a Repository\n",
        "\n",
        "This section lists the files in the root directory of the repository `video-game-analysis` using the `/repos/{owner}/{repo}/contents/` endpoint.\n"
      ],
      "metadata": {
        "id": "OXfVKOtyJIds"
      }
    },
    {
      "cell_type": "code",
      "source": [
        "# Nombre del repositorio a inspeccionar\n",
        "repo_name = \"video-game-analysis\"\n",
        "\n",
        "# Endpoint para obtener el contenido de la raíz del repositorio\n",
        "contents_url = f\"https://api.github.com/repos/{username}/{repo_name}/contents/\"\n",
        "\n",
        "# Hacer la petición\n",
        "response = requests.get(contents_url, headers=headers)\n",
        "\n",
        "print(\"Status Code:\", response.status_code)\n",
        "\n",
        "# Mostrar resultados\n",
        "if response.status_code == 200:\n",
        "    contents = response.json()\n",
        "    print(f\"\\nContenido del repositorio '{repo_name}':\")\n",
        "    for item in contents:\n",
        "        print(f\"- {item['name']} ({item['type']}) → {item['download_url']}\")\n",
        "else:\n",
        "    print(\"Error:\", response.text)\n",
        "\n",
        "\n"
      ],
      "metadata": {
        "colab": {
          "base_uri": "https://localhost:8080/"
        },
        "id": "uLUYAQDqEiy6",
        "outputId": "ecc6e3a7-aaa1-44bd-97fe-07795e7f6c9e"
      },
      "execution_count": 6,
      "outputs": [
        {
          "output_type": "stream",
          "name": "stdout",
          "text": [
            "Status Code: 200\n",
            "\n",
            "Contenido del repositorio 'video-game-analysis':\n",
            "- README.md (file) → https://raw.githubusercontent.com/rlugog/video-game-analysis/main/README.md\n",
            "- video-game-analysis.ipynb (file) → https://raw.githubusercontent.com/rlugog/video-game-analysis/main/video-game-analysis.ipynb\n"
          ]
        }
      ]
    },
    {
      "cell_type": "markdown",
      "source": [
        "## ✅ Summary & Reflection\n",
        "\n",
        "This exercise provided hands-on experience with API authentication, response parsing, and request structuring using Python. I learned how to:\n",
        "\n",
        "- Authenticate with headers\n",
        "- Extract structured data via requests\n",
        "- Navigate GitHub’s REST endpoints\n",
        "\n",
        "The use of Google Colab added flexibility and clarity to the process.\n"
      ],
      "metadata": {
        "id": "37siz1VhJRio"
      }
    },
    {
      "cell_type": "code",
      "source": [],
      "metadata": {
        "id": "EV2y89oHJT_4"
      },
      "execution_count": null,
      "outputs": []
    }
  ]
}
